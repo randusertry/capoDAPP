{
 "cells": [
  {
   "cell_type": "code",
   "execution_count": 18,
   "metadata": {},
   "outputs": [],
   "source": [
    "from bs4 import BeautifulSoup\n",
    "import csv\n",
    "import requests\n",
    "\n",
    "url=\"https://docs.google.com/spreadsheets/d/1P4wWyrjYqEZcbOTCEdMCyS0RvqiCJBwH-i9GNbbbe9g/edit?gid=0#gid=0\""
   ]
  },
  {
   "cell_type": "code",
   "execution_count": 19,
   "metadata": {},
   "outputs": [],
   "source": [
    "html = requests.get(url).text\n",
    "soup = BeautifulSoup(html, \"lxml\")\n",
    "tables = soup.find_all(\"table\")\n",
    "index = 0\n",
    "for table in tables:\n",
    "    with open(str(index) + \".csv\", \"w\") as f:\n",
    "        wr = csv.writer(f, quoting=csv.QUOTE_NONNUMERIC)\n",
    "        wr.writerows([[td.text for td in row.find_all(\"td\")] for row in table.find_all(\"tr\")])\n",
    "    index = index + 1\n"
   ]
  },
  {
   "cell_type": "code",
   "execution_count": 25,
   "metadata": {},
   "outputs": [],
   "source": [
    "import pandas as pd\n",
    "real_rows=[]\n",
    "for table in tables:\n",
    "    rows=[[td.text.lower() for td in row.find_all(\"td\")] for row in table.find_all(\"tr\")]\n",
    "    for r in rows:\n",
    "        if len(r)>=3:\n",
    "            real_row=r[:3]\n",
    "            if real_row.count(\"\")<3:\n",
    "                if not real_row[0].startswith(\"\\xa0\"):\n",
    "                    real_rows.append(real_row)\n"
   ]
  },
  {
   "cell_type": "code",
   "execution_count": 26,
   "metadata": {},
   "outputs": [
    {
     "data": {
      "text/plain": [
       "[['nome', 'allergie', 'evitati'],\n",
       " ['lucia', 'noci', 'carne'],\n",
       " ['lucia', 'uova', ''],\n",
       " ['lucia', '', ''],\n",
       " ['fabio', '', 'crostacei'],\n",
       " ['sara', 'muffa', ''],\n",
       " ['sara', 'patate', ''],\n",
       " ['sara', 'funghi', ''],\n",
       " ['sara', 'tartufo', ''],\n",
       " ['sara', 'gorgonzola', ''],\n",
       " ['sara', 'roquefort', ''],\n",
       " ['sara', 'erborinato', ''],\n",
       " ['dani', '', 'carne'],\n",
       " ['dani', '', 'pesce']]"
      ]
     },
     "execution_count": 26,
     "metadata": {},
     "output_type": "execute_result"
    }
   ],
   "source": [
    "real_rows"
   ]
  }
 ],
 "metadata": {
  "kernelspec": {
   "display_name": "Python 3",
   "language": "python",
   "name": "python3"
  },
  "language_info": {
   "codemirror_mode": {
    "name": "ipython",
    "version": 3
   },
   "file_extension": ".py",
   "mimetype": "text/x-python",
   "name": "python",
   "nbconvert_exporter": "python",
   "pygments_lexer": "ipython3",
   "version": "3.10.9"
  }
 },
 "nbformat": 4,
 "nbformat_minor": 2
}
